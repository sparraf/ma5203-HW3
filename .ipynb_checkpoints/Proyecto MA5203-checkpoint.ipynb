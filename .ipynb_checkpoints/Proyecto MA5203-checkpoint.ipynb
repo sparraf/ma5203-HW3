{
 "cells": [
  {
   "cell_type": "code",
   "execution_count": null,
   "metadata": {},
   "outputs": [],
   "source": [
    "#############################\n",
    "# Parte 5: Proyecto del Curso\n",
    "#############################\n",
    "#Integrantes del grupo: Vicente Peña, Ignacio, y Sebastián Parra\n",
    "\n",
    "#Tema del proyecto: Clasificacion de kanjis manuscritos\n",
    "\n",
    "#El problema consiste en desarrollar un clasificador que permita distinguir distintos carácteres de kanji\n",
    "#(uno de los alfabetos japoneses caracterizado por la complejidad y similitud entre sus carácteres) a partir\n",
    "#de imagenes con símbolos manuscritos (smilar al clásico MNIST). La base de datos a utilizar se conoce como ETL- 8 \n",
    "#y se puede encontrar en http://etlcdb.db.aist.go.jp/. Ésta consiste en 140480 imágenes de 878 diferentes kanjis\n",
    "#más 12.000 imágnes de 75 letras distintas del alfabeto hiragana. Cada imagen es de 64 x 64 píxeles\n",
    "\n",
    "import struct\n",
    "import numpy as np\n",
    "from PIL import Image\n",
    "\n",
    "import matplotlib.pyplot as plt\n",
    "\n",
    "sz_record = 8199\n",
    "\n",
    "\n",
    "def read_record_ETL8G(f):\n",
    "    s = f.read(sz_record)\n",
    "    r = struct.unpack('>2H8sI4B4H2B30x8128s11x', s)\n",
    "    iF = Image.frombytes('F', (128, 127), r[14], 'bit', 4)\n",
    "    iL = iF.convert('L')\n",
    "    return r + (iL,)\n",
    "\n",
    "\n",
    "def read_kanji():\n",
    "    ary = np.zeros([72, 160, 127, 128], dtype=np.uint8)\n",
    "\n",
    "    for j in range(1, 33):\n",
    "        filename = '../Proyecto/ETL8G/ETL8G_{:02d}'.format(j)\n",
    "        with open(filename, 'rb') as f:\n",
    "            for id_dataset in range(5):\n",
    "                moji = 0\n",
    "                for i in range(956):\n",
    "                    r = read_record_ETL8G(f)\n",
    "                    if b'.KAN' in r[2]:\n",
    "                        ary[moji, (j - 1) * 5 + id_dataset] = np.array(r[-1])\n",
    "                        moji += 1\n",
    "    np.savez_compressed(\"kanji.npz\", ary)\n",
    "\n",
    "read_kanji()\n",
    "\n",
    "#Generar vector de imagenes\n",
    "imagenes = np.load(\"kanji.npz\")['arr_0'].reshape([-1, 127, 128]).astype(np.float32)"
   ]
  },
  {
   "cell_type": "code",
   "execution_count": 2,
   "metadata": {},
   "outputs": [],
   "source": [
    "#Eliminar imagenes vacias\n",
    "imagenes_no_vacias = np.array([imagenes[0]])\n",
    "for i in range(len(imagenes)-1):\n",
    "    maximo = np.max(imagenes[i+1])\n",
    "    if maximo > 0:\n",
    "        imagenes_no_vacias = np.append(imagenes_no_vacias, np.array([imagenes[i+1]]), axis=0)"
   ]
  },
  {
   "cell_type": "code",
   "execution_count": 6,
   "metadata": {},
   "outputs": [
    {
     "name": "stdout",
     "output_type": "stream",
     "text": [
      "(960, 127, 128)\n"
     ]
    },
    {
     "data": {
      "image/png": "[encoded data removed]",
      "text/plain": [
       "<Figure size 432x288 with 1 Axes>"
      ]
     },
     "metadata": {},
     "output_type": "display_data"
    }
   ],
   "source": [
    "#Ver dimensiones del vector de imagenes no vacias\n",
    "print(imagenes_no_vacias.shape)\n",
    "\n",
    "#Visualizar una imagen aleatoria\n",
    "plt.imshow(imagenes_no_vacias[np.random.randint(0,len(imagenes_no_vacias))], cmap='gray')\n",
    "plt.show()\n",
    "\n",
    "#Como en la página del dataset se especifica que son 160 imagenes por clase\n",
    "n_clases = 960/160\n",
    "imagenes_labels = np.repeat(np.arange(n_clases), 160)"
   ]
  },
  {
   "cell_type": "code",
   "execution_count": 24,
   "metadata": {},
   "outputs": [
    {
     "data": {
      "text/plain": [
       "0.921875"
      ]
     },
     "execution_count": 24,
     "metadata": {},
     "output_type": "execute_result"
    }
   ],
   "source": [
    "# Tarea 4: Implementación de clasificación con random forest\n",
    "from sklearn.ensemble import RandomForestClassifier\n",
    "from sklearn.model_selection import train_test_split\n",
    "\n",
    "imagenes_no_vacias = imagenes_no_vacias.reshape([960, -1])\n",
    "img_train, img_test, label_train, label_test = train_test_split(imagenes_no_vacias, imagenes_labels, test_size=0.2)\n",
    "\n",
    "clf = RandomForestClassifier(n_estimators=200, oob_score=True, n_jobs=-1)\n",
    "\n",
    "clf.fit(img_train, label_train)\n",
    "clf.score(img_test, label_test)"
   ]
  },
  {
   "cell_type": "code",
   "execution_count": null,
   "metadata": {},
   "outputs": [],
   "source": []
  }
 ],
 "metadata": {
  "kernelspec": {
   "display_name": "Python 3",
   "language": "python",
   "name": "python3"
  },
  "language_info": {
   "codemirror_mode": {
    "name": "ipython",
    "version": 3
   },
   "file_extension": ".py",
   "mimetype": "text/x-python",
   "name": "python",
   "nbconvert_exporter": "python",
   "pygments_lexer": "ipython3",
   "version": "3.6.5"
  }
 },
 "nbformat": 4,
 "nbformat_minor": 2
}
